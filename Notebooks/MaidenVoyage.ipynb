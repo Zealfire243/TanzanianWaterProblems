{
 "cells": [
  {
   "cell_type": "code",
   "execution_count": 1,
   "metadata": {},
   "outputs": [],
   "source": [
    "import numpy as np\n",
    "import pandas as pd\n",
    "import matplotlib.pyplot as plt\n",
    "%matplotlib inline\n",
    "from sklearn.model_selection import train_test_split, cross_val_score, GridSearchCV\n",
    "from sklearn.ensemble import AdaBoostClassifier, GradientBoostingClassifier\n",
    "from sklearn.metrics import accuracy_score, f1_score, confusion_matrix, classification_report\n",
    "from xgboost import XGBClassifier\n",
    "RANDOM_STATE = 42"
   ]
  },
  {
   "cell_type": "code",
   "execution_count": 2,
   "metadata": {},
   "outputs": [],
   "source": [
    "df = pd.read_csv('../Data/Training_set_values.csv')\n",
    "target = pd.read_csv('../Data/Training_set_target.csv')"
   ]
  },
  {
   "cell_type": "code",
   "execution_count": null,
   "metadata": {},
   "outputs": [],
   "source": [
    "df.head()"
   ]
  },
  {
   "cell_type": "code",
   "execution_count": null,
   "metadata": {},
   "outputs": [],
   "source": [
    "cleaning_df.status_group.value_counts()"
   ]
  },
  {
   "cell_type": "code",
   "execution_count": 3,
   "metadata": {},
   "outputs": [],
   "source": [
    "df, X_hold, target, y_hold = train_test_split(df, target, test_size=.1,\n",
    "                                                    random_state=RANDOM_STATE) "
   ]
  },
  {
   "cell_type": "code",
   "execution_count": 4,
   "metadata": {},
   "outputs": [],
   "source": [
    "cleaning_df = df.merge(target)"
   ]
  },
  {
   "cell_type": "code",
   "execution_count": null,
   "metadata": {},
   "outputs": [],
   "source": [
    "cleaning_df.head()"
   ]
  },
  {
   "cell_type": "code",
   "execution_count": 5,
   "metadata": {},
   "outputs": [],
   "source": [
    "to_drop = ['scheme_name', 'amount_tsh', 'num_private', 'recorded_by', 'extraction_type', 'payment',\n",
    "           'quality_group','quantity_group', 'region', 'waterpoint_type_group']\n",
    "cleaning_df.drop(to_drop, axis=1, inplace=True)\n",
    "cleaning_df['longitude'].replace({0 : np.NaN}, inplace=True)\n",
    "cleaning_df['wpt_name'].replace({'none' : np.NaN}, inplace=True)\n",
    "cleaning_df['scheme_management'].replace({'None' : np.NaN}, inplace=True)\n",
    "\n",
    "cleaning_df.dropna(inplace=True)"
   ]
  },
  {
   "cell_type": "code",
   "execution_count": 6,
   "metadata": {},
   "outputs": [],
   "source": [
    "replace_columns = ['construction_year', 'population']\n",
    "for column in replace_columns:\n",
    "    this_mean = round(cleaning_df[column][cleaning_df[column] != 0].mean())\n",
    "    cleaning_df[column].replace({0 : this_mean}, inplace=True)"
   ]
  },
  {
   "cell_type": "code",
   "execution_count": 7,
   "metadata": {},
   "outputs": [],
   "source": [
    "needs_repair_ids = cleaning_df['id'][cleaning_df['status_group'] == 'functional needs repair']\n",
    "cleaning_df['status_group'].replace({'functional needs repair': 'functional'}, inplace=True)\n",
    "target = cleaning_df['status_group']\n",
    "preprocessed_df = cleaning_df.drop('status_group', axis=1)"
   ]
  },
  {
   "cell_type": "code",
   "execution_count": 9,
   "metadata": {},
   "outputs": [],
   "source": [
    "target.replace({'functional' : 1 , 'non functional' : 0}, inplace=True)"
   ]
  },
  {
   "cell_type": "code",
   "execution_count": null,
   "metadata": {},
   "outputs": [],
   "source": [
    "results = []\n",
    "for column in cleaning_df.columns.to_list():\n",
    "    results.append({column : cleaning_df[column].value_counts()})"
   ]
  },
  {
   "cell_type": "code",
   "execution_count": null,
   "metadata": {},
   "outputs": [],
   "source": [
    "results"
   ]
  },
  {
   "cell_type": "code",
   "execution_count": 7,
   "metadata": {},
   "outputs": [],
   "source": [
    "categorical = ['basin', 'public_meeting', 'scheme_management', 'permit',\n",
    "               'extraction_type_group', 'extraction_type_class', 'management',\n",
    "               'management_group', 'payment_type', 'water_quality', 'quantity',\n",
    "               'source_type', 'source_class', 'waterpoint_type']\n",
    "continuous = ['id', 'gps_height', 'longitude', 'latitude', 'region_code', 'district_code', 'population', 'construction_year']"
   ]
  },
  {
   "cell_type": "code",
   "execution_count": 11,
   "metadata": {},
   "outputs": [],
   "source": [
    "categorical_df = preprocessed_df[categorical]\n",
    "continuous_df = preprocessed_df[continuous]\n",
    "dummy_df = pd.get_dummies(categorical_df)\n",
    "processed_df = pd.concat([continuous_df, dummy_df], axis=1)"
   ]
  },
  {
   "cell_type": "code",
   "execution_count": 12,
   "metadata": {},
   "outputs": [],
   "source": [
    "# processed_df.to_csv('../Data/processed_varibles.csv', index=False)\n",
    "target.to_csv('../Data/processed_target.csv', index=False)\n",
    "# needs_repair_ids.to_csv('../Data/needs_repair_ids.csv', index=False)\n",
    "# X_hold.to_csv('../Data/varibles_hold.csv', index=False)\n",
    "# y_hold.to_csv('../Data/target_hold.csv', index=False)"
   ]
  },
  {
   "cell_type": "code",
   "execution_count": null,
   "metadata": {},
   "outputs": [],
   "source": []
  }
 ],
 "metadata": {
  "kernelspec": {
   "display_name": "Python 3",
   "language": "python",
   "name": "python3"
  },
  "language_info": {
   "codemirror_mode": {
    "name": "ipython",
    "version": 3
   },
   "file_extension": ".py",
   "mimetype": "text/x-python",
   "name": "python",
   "nbconvert_exporter": "python",
   "pygments_lexer": "ipython3",
   "version": "3.8.8"
  }
 },
 "nbformat": 4,
 "nbformat_minor": 4
}
