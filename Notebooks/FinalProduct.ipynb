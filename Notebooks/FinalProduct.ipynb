{
 "cells": [
  {
   "cell_type": "markdown",
   "id": "209b1a9b",
   "metadata": {},
   "source": [
    "# Tanzanian Water Problems"
   ]
  },
  {
   "cell_type": "code",
   "execution_count": 11,
   "id": "d4a8c8b4",
   "metadata": {},
   "outputs": [],
   "source": [
    "import numpy as np\n",
    "import pandas as pd\n",
    "import matplotlib.pyplot as plt\n",
    "%matplotlib inline\n",
    "from sklearn.model_selection import train_test_split, \\\n",
    "cross_val_score, GridSearchCV\n",
    "from sklearn.ensemble import AdaBoostClassifier, GradientBoostingClassifier\n",
    "from sklearn.metrics import accuracy_score, f1_score,\\\n",
    "confusion_matrix, classification_report, roc_auc_score, plot_confusion_matrix\n",
    "# from xgboost import XGBClassifier\n",
    "from sklearn.tree import DecisionTreeClassifier\n",
    "from sklearn.metrics import r2_score, mean_squared_error\n",
    "from sklearn.linear_model import LogisticRegression\n",
    "RANDOM_STATE = 42"
   ]
  },
  {
   "cell_type": "markdown",
   "id": "e2c1b878",
   "metadata": {},
   "source": [
    "## Overview\n",
    "Through DrivenData.org I have been tasked to predict whether or not a water point in Tanzania will need repairs. I am to use data telling me about location, what type of pump is being used and how its being managed in order to predict if it needs repairs or not. I use a Decision Tree Classifier that has been tuned to this data. I end up with more false positives than I would like as that means my model predicted the water point doesn't need repair, when in fact it does. This means more Tanzanians will go without water than I want."
   ]
  },
  {
   "cell_type": "markdown",
   "id": "5d660276",
   "metadata": {},
   "source": [
    "## Business Problem\n",
    "Tanzania has issues providing clean water to its population of over 57,000,000. Through a competition on DrivenData.org I have been tasked to analyze and predict which water pumps will need to be repaired in the future. Understanding what water pumps will need repairs can improve maintenace costs and time, and ensure the availability of clean water to Tanzanians."
   ]
  },
  {
   "cell_type": "markdown",
   "id": "17b8a5b9",
   "metadata": {},
   "source": [
    "## Data\n",
    "Describe the data being used for this project.\n",
    "The data I am using was sourced from Taarfia and The Tanzanian Ministry of Water. Given that this data is from a competition I know that it perfectly relates to the business problem. The data gives information about the location of the water point, what type of pump is being used, how its being managed and when it was installed. Using this information I need to predict whether a pump is functional, needs some repairs or doesn't work at all. Please look at [this notebook](./MaidenVoyage.ipynb) for more information about the data and cleaning."
   ]
  },
  {
   "cell_type": "markdown",
   "id": "cd53b105",
   "metadata": {},
   "source": [
    "## Method\n",
    "First to analyze I dove into looking through all the value counts for my variables. Looking to figure out which columns I was going to use. What I was looking for was medium variety, high null value count, checking for null replacement values etc. This was a ternary classification problem however I converted it to a binary classification problem to save on time. After cleaning I decided to go with a simple GridSearchCV Decision Tree Classifier. I did a simple model instead of a more complicated one because I want to know which variables are affecting my model the most. My main step was hyperparameter tuning of which the results and details for can be found [here](./Hyperparameter_tuning.ipynb). I used my results as a starting point for GridSearchCV to save on computation. The results of which are found below."
   ]
  },
  {
   "cell_type": "code",
   "execution_count": 12,
   "id": "0141003b",
   "metadata": {},
   "outputs": [],
   "source": [
    "def performance(y_true, y_predict):\n",
    "    \"\"\" \n",
    "    Calculates and returns the two performance scores between \n",
    "    true and predicted values - first R-Squared, then accuracy\n",
    "    From Regression Trees and Model Optimization - Lab\n",
    "    \"\"\"\n",
    "\n",
    "    f1 = f1_score(y_true, y_predict)\n",
    "    accuracy = accuracy_score(y_true, y_predict)\n",
    "    roc_auc = roc_auc_score(y_true, y_predict)\n",
    "\n",
    "    return [f1, accuracy, roc_auc]\n",
    "def get_score(model, x_train, x_test, y_train, y_test):\n",
    "    \"\"\"\n",
    "    Returns score from any given model and train test split data\n",
    "    \"\"\"\n",
    "    \n",
    "    model.fit(x_train, y_train)\n",
    "    y_pred = model.predict(x_test)\n",
    "    score = performance(y_test, y_pred)\n",
    "    return score"
   ]
  },
  {
   "cell_type": "code",
   "execution_count": 13,
   "id": "d1450742",
   "metadata": {},
   "outputs": [],
   "source": [
    "x_train = pd.read_csv('../Data/processed_varibles_train.csv')\n",
    "y_train = pd.read_csv('../Data/processed_target_train.csv')\n",
    "x_test = pd.read_csv('../Data/processed_varibles_test.csv')\n",
    "y_test = pd.read_csv('../Data/processed_target_test.csv')"
   ]
  },
  {
   "cell_type": "code",
   "execution_count": 14,
   "id": "fa9326ad",
   "metadata": {},
   "outputs": [],
   "source": [
    "dt_param_grid = {\n",
    "    'max_depth' : [12, 13, 14, 15],\n",
    "    'min_samples_split' : [20, 23, 26],\n",
    "    'min_samples_leaf' : [9, 10, 11, 12, 13],\n",
    "    'max_features' : [0.2, 0.25, 0.35, 0.4, 0.9 ]\n",
    "}"
   ]
  },
  {
   "cell_type": "code",
   "execution_count": 15,
   "id": "f73225ae",
   "metadata": {
    "scrolled": true
   },
   "outputs": [
    {
     "data": {
      "text/plain": [
       "GridSearchCV(cv=3, estimator=DecisionTreeClassifier(random_state=42),\n",
       "             param_grid={'max_depth': [12, 13, 14, 15],\n",
       "                         'max_features': [0.2, 0.25, 0.35, 0.4, 0.9],\n",
       "                         'min_samples_leaf': [9, 10, 11, 12, 13],\n",
       "                         'min_samples_split': [20, 23, 26]},\n",
       "             return_train_score=True)"
      ]
     },
     "execution_count": 15,
     "metadata": {},
     "output_type": "execute_result"
    }
   ],
   "source": [
    "dt_clf = DecisionTreeClassifier(random_state=RANDOM_STATE)\n",
    "dt_grid_search = GridSearchCV(dt_clf, dt_param_grid, cv=3,\n",
    "                              return_train_score=True)\n",
    "dt_grid_search.fit(x_train, y_train)\n"
   ]
  },
  {
   "cell_type": "code",
   "execution_count": 16,
   "id": "eb0b44b5",
   "metadata": {},
   "outputs": [
    {
     "name": "stdout",
     "output_type": "stream",
     "text": [
      "Mean Training Score: 83.06%\n",
      "Mean Test Score: 81.52%\n",
      "Optimal Parameters: {'max_depth': 14, 'max_features': 0.9, 'min_samples_leaf': 10, 'min_samples_split': 20}\n"
     ]
    },
    {
     "data": {
      "text/plain": [
       "0.8100838193581286"
      ]
     },
     "execution_count": 16,
     "metadata": {},
     "output_type": "execute_result"
    }
   ],
   "source": [
    "dt_gs_training_score = np.mean(dt_grid_search.cv_results_['mean_train_score'])\n",
    "dt_gs_testing_score = dt_grid_search.score(x_test, y_test)\n",
    "print(f\"Mean Training Score: {dt_gs_training_score :.2%}\")\n",
    "print(f\"Mean Test Score: {dt_gs_testing_score :.2%}\")\n",
    "print(f\"Optimal Parameters: {dt_grid_search.best_params_}\")\n",
    "dt_grid_search.best_score_"
   ]
  },
  {
   "cell_type": "code",
   "execution_count": 17,
   "id": "6415c8f5",
   "metadata": {},
   "outputs": [
    {
     "data": {
      "text/plain": [
       "[0.8502899832890985, 0.8067994418368641, 0.7804421790749851]"
      ]
     },
     "execution_count": 17,
     "metadata": {},
     "output_type": "execute_result"
    }
   ],
   "source": [
    "final_dt_clf = DecisionTreeClassifier(random_state=RANDOM_STATE, max_depth=15,\n",
    "                                     max_features=0.4, min_samples_leaf=12, \n",
    "                                     min_samples_split=26)\n",
    "final_dt_clf.fit(x_train, y_train)\n",
    "y_preds = final_dt_clf.predict(x_test)\n",
    "score = performance(y_test, y_preds)\n",
    "score"
   ]
  },
  {
   "cell_type": "code",
   "execution_count": 18,
   "id": "a9d69ce1",
   "metadata": {},
   "outputs": [
    {
     "data": {
      "text/plain": [
       "<sklearn.metrics._plot.confusion_matrix.ConfusionMatrixDisplay at 0x20dd0da2ca0>"
      ]
     },
     "execution_count": 18,
     "metadata": {},
     "output_type": "execute_result"
    },
    {
     "data": {
      "image/png": "[encoded data removed]",
      "text/plain": [
       "<Figure size 432x288 with 2 Axes>"
      ]
     },
     "metadata": {
      "needs_background": "light"
     },
     "output_type": "display_data"
    }
   ],
   "source": [
    "plot_confusion_matrix(final_dt_clf, x_test, y_test)"
   ]
  },
  {
   "cell_type": "code",
   "execution_count": 19,
   "id": "3f2e585d",
   "metadata": {},
   "outputs": [],
   "source": [
    "Feature_importance = {}\n",
    "for i in range(len(x_train.columns.to_list())):\n",
    "    Feature_importance[x_train.columns.to_list()[i]] = \\\n",
    "    round(final_dt_clf.feature_importances_[i], 8)"
   ]
  },
  {
   "cell_type": "code",
   "execution_count": 20,
   "id": "4b6414e6",
   "metadata": {},
   "outputs": [
    {
     "data": {
      "text/plain": [
       "{'quantity_dry': 0.1787968,\n",
       " 'extraction_type_class_other': 0.17081162,\n",
       " 'quantity_enough': 0.09884527,\n",
       " 'latitude': 0.0616917,\n",
       " 'construction_year': 0.05544314,\n",
       " 'longitude': 0.0545806,\n",
       " 'population': 0.0328143,\n",
       " 'payment_type_never pay': 0.03056537,\n",
       " 'gps_height': 0.02723295,\n",
       " 'region_code': 0.02080247,\n",
       " 'district_code': 0.01976922,\n",
       " 'extraction_type_class_motorpump': 0.01945212,\n",
       " 'waterpoint_type_other': 0.0166093,\n",
       " 'waterpoint_type_communal standpipe': 0.01621265,\n",
       " 'extraction_type_class_submersible': 0.01605129,\n",
       " 'management_vwc': 0.01482377,\n",
       " 'source_type_rainwater harvesting': 0.01358856,\n",
       " 'waterpoint_type_improved spring': 0.00952197,\n",
       " 'management_company': 0.0090905,\n",
       " 'source_class_groundwater': 0.0075334,\n",
       " 'id': 0.00735166,\n",
       " 'source_type_spring': 0.006911,\n",
       " 'basin_Internal': 0.00649281,\n",
       " 'waterpoint_type_communal standpipe multiple': 0.00550914,\n",
       " 'water_quality_unknown': 0.00525135,\n",
       " 'permit_True': 0.00505037,\n",
       " 'permit_False': 0.00493979,\n",
       " 'basin_Lake Nyasa': 0.00484449,\n",
       " 'payment_type_per bucket': 0.00468186,\n",
       " 'source_type_shallow well': 0.00392902,\n",
       " 'management_group_commercial': 0.00381672,\n",
       " 'public_meeting_False': 0.00346669,\n",
       " 'payment_type_unknown': 0.00326035,\n",
       " 'basin_Wami / Ruvu': 0.00317608,\n",
       " 'waterpoint_type_hand pump': 0.00316532,\n",
       " 'extraction_type_group_nira/tanira': 0.00298364,\n",
       " 'extraction_type_group_submersible': 0.00291376,\n",
       " 'scheme_management_VWC': 0.00290646,\n",
       " 'basin_Ruvuma / Southern Coast': 0.0028111,\n",
       " 'management_private operator': 0.00272641,\n",
       " 'public_meeting_True': 0.00247752,\n",
       " 'source_type_borehole': 0.00238943,\n",
       " 'basin_Lake Tanganyika': 0.00227128,\n",
       " 'source_type_dam': 0.00224732,\n",
       " 'extraction_type_group_india mark ii': 0.0021908,\n",
       " 'scheme_management_Water authority': 0.0020741,\n",
       " 'basin_Pangani': 0.00197675,\n",
       " 'water_quality_soft': 0.00196555,\n",
       " 'payment_type_on failure': 0.0018462,\n",
       " 'quantity_seasonal': 0.00157306,\n",
       " 'payment_type_annually': 0.0015261,\n",
       " 'management_wug': 0.00140707,\n",
       " 'extraction_type_class_gravity': 0.00137245,\n",
       " 'payment_type_monthly': 0.00121477,\n",
       " 'basin_Lake Rukwa': 0.00116124,\n",
       " 'source_type_other': 0.00105824,\n",
       " 'basin_Rufiji': 0.0009416,\n",
       " 'quantity_unknown': 0.00089774,\n",
       " 'extraction_type_group_india mark iii': 0.00088936,\n",
       " 'extraction_type_class_handpump': 0.00083383,\n",
       " 'management_group_user-group': 0.00081239,\n",
       " 'water_quality_coloured': 0.00076432,\n",
       " 'scheme_management_Water Board': 0.00074849,\n",
       " 'extraction_type_group_swn 80': 0.00073066,\n",
       " 'scheme_management_WUA': 0.00070221,\n",
       " 'water_quality_salty': 0.00064079,\n",
       " 'source_type_river/lake': 0.00055093,\n",
       " 'scheme_management_WUG': 0.00042235,\n",
       " 'basin_Lake Victoria': 0.0003796,\n",
       " 'payment_type_other': 0.00033163,\n",
       " 'management_group_other': 0.00027993,\n",
       " 'management_group_parastatal': 0.00023893,\n",
       " 'management_wua': 0.00023033,\n",
       " 'extraction_type_group_gravity': 0.00022067,\n",
       " 'management_parastatal': 0.00013884,\n",
       " 'scheme_management_Parastatal': 3.061e-05,\n",
       " 'extraction_type_group_afridev': 3.047e-05,\n",
       " 'management_water authority': 7.41e-06,\n",
       " 'scheme_management_Company': 0.0,\n",
       " 'scheme_management_Other': 0.0,\n",
       " 'scheme_management_Private operator': 0.0,\n",
       " 'scheme_management_SWC': 0.0,\n",
       " 'scheme_management_Trust': 0.0,\n",
       " 'extraction_type_group_mono': 0.0,\n",
       " 'extraction_type_group_other': 0.0,\n",
       " 'extraction_type_group_other handpump': 0.0,\n",
       " 'extraction_type_group_other motorpump': 0.0,\n",
       " 'extraction_type_group_rope pump': 0.0,\n",
       " 'extraction_type_group_wind-powered': 0.0,\n",
       " 'extraction_type_class_rope pump': 0.0,\n",
       " 'extraction_type_class_wind-powered': 0.0,\n",
       " 'management_other': 0.0,\n",
       " 'management_other - school': 0.0,\n",
       " 'management_trust': 0.0,\n",
       " 'management_unknown': 0.0,\n",
       " 'management_water board': 0.0,\n",
       " 'management_group_unknown': 0.0,\n",
       " 'water_quality_fluoride': 0.0,\n",
       " 'water_quality_fluoride abandoned': 0.0,\n",
       " 'water_quality_milky': 0.0,\n",
       " 'water_quality_salty abandoned': 0.0,\n",
       " 'quantity_insufficient': 0.0,\n",
       " 'source_class_surface': 0.0,\n",
       " 'source_class_unknown': 0.0,\n",
       " 'waterpoint_type_cattle trough': 0.0,\n",
       " 'waterpoint_type_dam': 0.0}"
      ]
     },
     "execution_count": 20,
     "metadata": {},
     "output_type": "execute_result"
    }
   ],
   "source": [
    "{k: v for k, v in sorted(Feature_importance.items(),\n",
    "                         key=lambda item: item[1], reverse=True)}"
   ]
  },
  {
   "cell_type": "markdown",
   "id": "00458ad7",
   "metadata": {},
   "source": [
    "## Results\n",
    "I ended with an accuracy score of 0.8026 so I can confidently say that this model would help with improving maintenace costs and time, and ensure the availability of clean water to Tanzanians. My confusion matrix tells me that I have a lot more false postives that false negatives. This is due to me not converting my this back to a ternary classification problem. Even so this model is still useful to the Tanzanian Ministry of Water in prediciting whether or not a water point needs repairs or not. "
   ]
  }
 ],
 "metadata": {
  "kernelspec": {
   "display_name": "Python 3",
   "language": "python",
   "name": "python3"
  },
  "language_info": {
   "codemirror_mode": {
    "name": "ipython",
    "version": 3
   },
   "file_extension": ".py",
   "mimetype": "text/x-python",
   "name": "python",
   "nbconvert_exporter": "python",
   "pygments_lexer": "ipython3",
   "version": "3.8.8"
  }
 },
 "nbformat": 4,
 "nbformat_minor": 5
}
