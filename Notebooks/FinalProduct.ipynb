{
 "cells": [
  {
   "cell_type": "code",
   "execution_count": 1,
   "id": "d4a8c8b4",
   "metadata": {},
   "outputs": [],
   "source": [
    "import numpy as np\n",
    "import pandas as pd\n",
    "import matplotlib.pyplot as plt\n",
    "%matplotlib inline\n",
    "from sklearn.model_selection import train_test_split, \\\n",
    "cross_val_score, GridSearchCV\n",
    "from sklearn.ensemble import AdaBoostClassifier, GradientBoostingClassifier\n",
    "from sklearn.metrics import accuracy_score, f1_score,\\\n",
    "confusion_matrix, classification_report, roc_auc_score, plot_confusion_matrix\n",
    "# from xgboost import XGBClassifier\n",
    "from sklearn.tree import DecisionTreeClassifier\n",
    "from sklearn.metrics import r2_score, mean_squared_error\n",
    "from sklearn.linear_model import LogisticRegression\n",
    "RANDOM_STATE = 42"
   ]
  },
  {
   "cell_type": "markdown",
   "id": "e2c1b878",
   "metadata": {},
   "source": [
    "# Overview\n"
   ]
  },
  {
   "cell_type": "markdown",
   "id": "5d660276",
   "metadata": {},
   "source": [
    "# Business Problem"
   ]
  },
  {
   "cell_type": "markdown",
   "id": "17b8a5b9",
   "metadata": {},
   "source": [
    "# Data"
   ]
  },
  {
   "cell_type": "markdown",
   "id": "cd53b105",
   "metadata": {},
   "source": [
    "# Method"
   ]
  },
  {
   "cell_type": "markdown",
   "id": "00458ad7",
   "metadata": {},
   "source": [
    "# Results"
   ]
  },
  {
   "cell_type": "code",
   "execution_count": 2,
   "id": "0141003b",
   "metadata": {},
   "outputs": [],
   "source": [
    "def performance(y_true, y_predict):\n",
    "    \"\"\" \n",
    "    Calculates and returns the two performance scores between \n",
    "    true and predicted values - first R-Squared, then accuracy\n",
    "    From Regression Trees and Model Optimization - Lab\n",
    "    \"\"\"\n",
    "\n",
    "    f1 = f1_score(y_true, y_predict)\n",
    "    accuracy = accuracy_score(y_true, y_predict)\n",
    "    roc_auc = roc_auc_score(y_true, y_predict)\n",
    "\n",
    "    return [f1, accuracy, roc_auc]\n",
    "def get_score(model, x_train, x_test, y_train, y_test):\n",
    "    \"\"\"\n",
    "    Returns score from any given model and train test split data\n",
    "    \"\"\"\n",
    "    \n",
    "    model.fit(x_train, y_train)\n",
    "    y_pred = model.predict(x_test)\n",
    "    score = performance(y_test, y_pred)\n",
    "    return score"
   ]
  },
  {
   "cell_type": "code",
   "execution_count": 3,
   "id": "d1450742",
   "metadata": {},
   "outputs": [],
   "source": [
    "df = pd.read_csv('../Data/processed_varibles.csv')\n",
    "target = pd.read_csv('../Data/processed_target.csv')"
   ]
  },
  {
   "cell_type": "code",
   "execution_count": 4,
   "id": "99873d26",
   "metadata": {},
   "outputs": [],
   "source": [
    "x_train, x_test, y_train, y_test = train_test_split(\n",
    "    df, target, random_state=RANDOM_STATE, test_size=.2)"
   ]
  },
  {
   "cell_type": "code",
   "execution_count": 5,
   "id": "fa9326ad",
   "metadata": {},
   "outputs": [],
   "source": [
    "dt_param_grid = {\n",
    "    'max_depth' : [12, 13, 14, 15],\n",
    "    'min_samples_split' : [25, 26, 27],\n",
    "    'min_samples_leaf' : [12, 13, 14, 15, 16],\n",
    "    'max_features' : [0.2, 0.25, 0.35, 0.4 ]\n",
    "}"
   ]
  },
  {
   "cell_type": "code",
   "execution_count": 15,
   "id": "f73225ae",
   "metadata": {},
   "outputs": [
    {
     "data": {
      "text/plain": [
       "GridSearchCV(cv=3, estimator=DecisionTreeClassifier(),\n",
       "             param_grid={'max_depth': [12, 13, 14, 15],\n",
       "                         'max_features': [0.2, 0.25, 0.35, 0.4],\n",
       "                         'min_samples_leaf': [12, 13, 14, 15, 16],\n",
       "                         'min_samples_split': [25, 26, 27]},\n",
       "             return_train_score=True)"
      ]
     },
     "execution_count": 15,
     "metadata": {},
     "output_type": "execute_result"
    }
   ],
   "source": [
    "dt_clf = DecisionTreeClassifier(random_state=RANDOM_STATE)\n",
    "dt_grid_search = GridSearchCV(dt_clf, dt_param_grid, cv=3,\n",
    "                              return_train_score=True)\n",
    "dt_grid_search.fit(x_train, y_train)\n"
   ]
  },
  {
   "cell_type": "code",
   "execution_count": 31,
   "id": "eb0b44b5",
   "metadata": {},
   "outputs": [
    {
     "name": "stdout",
     "output_type": "stream",
     "text": [
      "Mean Training Score: 82.47%\n",
      "Mean Test Score: 81.38%\n",
      "Optimal Parameters: {'max_depth': 15, 'max_features': 0.4, 'min_samples_leaf': 12, 'min_samples_split': 26}\n"
     ]
    },
    {
     "data": {
      "text/plain": [
       "0.8071191400307435"
      ]
     },
     "execution_count": 31,
     "metadata": {},
     "output_type": "execute_result"
    }
   ],
   "source": [
    "dt_gs_training_score = np.mean(dt_grid_search.cv_results_['mean_train_score'])\n",
    "dt_gs_testing_score = dt_grid_search.score(x_test, y_test)\n",
    "print(f\"Mean Training Score: {dt_gs_training_score :.2%}\")\n",
    "print(f\"Mean Test Score: {dt_gs_testing_score :.2%}\")\n",
    "print(f\"Optimal Parameters: {dt_grid_search.best_params_}\")\n",
    "dt_grid_search.best_score_"
   ]
  },
  {
   "cell_type": "code",
   "execution_count": 6,
   "id": "6415c8f5",
   "metadata": {},
   "outputs": [
    {
     "data": {
      "text/plain": [
       "[0.8467470832509393, 0.8025980641874682, 0.7764282381020609]"
      ]
     },
     "execution_count": 6,
     "metadata": {},
     "output_type": "execute_result"
    }
   ],
   "source": [
    "final_dt_clf = DecisionTreeClassifier(random_state=RANDOM_STATE, max_depth=15,\n",
    "                                     max_features=0.4, min_samples_leaf=12, \n",
    "                                     min_samples_split=26)\n",
    "final_dt_clf.fit(x_train, y_train)\n",
    "y_preds = final_dt_clf.predict(x_test)\n",
    "score = performance(y_test, y_preds)\n",
    "score"
   ]
  },
  {
   "cell_type": "code",
   "execution_count": 7,
   "id": "a9d69ce1",
   "metadata": {},
   "outputs": [
    {
     "data": {
      "text/plain": [
       "<sklearn.metrics._plot.confusion_matrix.ConfusionMatrixDisplay at 0x21623b2bf40>"
      ]
     },
     "execution_count": 7,
     "metadata": {},
     "output_type": "execute_result"
    },
    {
     "data": {
      "image/png": "[encoded data removed]",
      "text/plain": [
       "<Figure size 432x288 with 2 Axes>"
      ]
     },
     "metadata": {
      "needs_background": "light"
     },
     "output_type": "display_data"
    }
   ],
   "source": [
    "plot_confusion_matrix(final_dt_clf, x_test, y_test)"
   ]
  },
  {
   "cell_type": "code",
   "execution_count": 19,
   "id": "3f2e585d",
   "metadata": {},
   "outputs": [],
   "source": [
    "Feature_importance = {}\n",
    "for i in range(len(x_train.columns.to_list())):\n",
    "    Feature_importance[x_train.columns.to_list()[i]] = \\\n",
    "    round(final_dt_clf.feature_importances_[i], 8)"
   ]
  },
  {
   "cell_type": "code",
   "execution_count": 21,
   "id": "4b6414e6",
   "metadata": {},
   "outputs": [
    {
     "data": {
      "text/plain": [
       "{'quantity_dry': 0.19085735,\n",
       " 'extraction_type_class_other': 0.17327181,\n",
       " 'quantity_enough': 0.09663506,\n",
       " 'construction_year': 0.06183081,\n",
       " 'latitude': 0.04787517,\n",
       " 'longitude': 0.04241033,\n",
       " 'gps_height': 0.03944186,\n",
       " 'population': 0.03583862,\n",
       " 'payment_type_never pay': 0.0270554,\n",
       " 'region_code': 0.02568688,\n",
       " 'extraction_type_class_motorpump': 0.01913135,\n",
       " 'district_code': 0.01693479,\n",
       " 'waterpoint_type_communal standpipe': 0.01692016,\n",
       " 'management_vwc': 0.01279199,\n",
       " 'extraction_type_class_submersible': 0.01123937,\n",
       " 'waterpoint_type_other': 0.00992445,\n",
       " 'id': 0.00961011,\n",
       " 'management_company': 0.00936757,\n",
       " 'waterpoint_type_improved spring': 0.00904546,\n",
       " 'source_type_borehole': 0.00859887,\n",
       " 'permit_False': 0.00784521,\n",
       " 'basin_Lake Victoria': 0.00725661,\n",
       " 'payment_type_unknown': 0.00681707,\n",
       " 'source_type_shallow well': 0.00660065,\n",
       " 'source_class_surface': 0.00626097,\n",
       " 'waterpoint_type_communal standpipe multiple': 0.00593447,\n",
       " 'permit_True': 0.00577525,\n",
       " 'payment_type_monthly': 0.00561597,\n",
       " 'scheme_management_WUG': 0.00550043,\n",
       " 'extraction_type_group_mono': 0.00521603,\n",
       " 'management_group_commercial': 0.0045709,\n",
       " 'basin_Lake Nyasa': 0.0043705,\n",
       " 'public_meeting_False': 0.00434204,\n",
       " 'extraction_type_class_gravity': 0.00433051,\n",
       " 'water_quality_unknown': 0.00427199,\n",
       " 'quantity_insufficient': 0.0032736,\n",
       " 'extraction_type_group_nira/tanira': 0.00270569,\n",
       " 'extraction_type_group_gravity': 0.00264342,\n",
       " 'basin_Wami / Ruvu': 0.00264196,\n",
       " 'basin_Pangani': 0.00262019,\n",
       " 'waterpoint_type_hand pump': 0.00223292,\n",
       " 'basin_Internal': 0.0022278,\n",
       " 'public_meeting_True': 0.00220457,\n",
       " 'basin_Lake Rukwa': 0.00212699,\n",
       " 'source_type_spring': 0.00192259,\n",
       " 'quantity_seasonal': 0.00170367,\n",
       " 'source_type_dam': 0.00163866,\n",
       " 'management_parastatal': 0.00156731,\n",
       " 'extraction_type_class_handpump': 0.00155835,\n",
       " 'basin_Lake Tanganyika': 0.00143102,\n",
       " 'basin_Rufiji': 0.00138909,\n",
       " 'scheme_management_Water authority': 0.0012638,\n",
       " 'scheme_management_VWC': 0.0011925,\n",
       " 'scheme_management_Company': 0.00114568,\n",
       " 'source_type_river/lake': 0.00112496,\n",
       " 'payment_type_per bucket': 0.00110514,\n",
       " 'payment_type_on failure': 0.00104664,\n",
       " 'extraction_type_group_india mark ii': 0.00103315,\n",
       " 'scheme_management_WUA': 0.00103313,\n",
       " 'extraction_type_group_other handpump': 0.00099044,\n",
       " 'water_quality_milky': 0.00097517,\n",
       " 'management_group_user-group': 0.00070776,\n",
       " 'extraction_type_group_india mark iii': 0.00063823,\n",
       " 'payment_type_annually': 0.00055665,\n",
       " 'extraction_type_group_swn 80': 0.00053444,\n",
       " 'quantity_unknown': 0.00052193,\n",
       " 'management_wua': 0.00050796,\n",
       " 'water_quality_soft': 0.00048442,\n",
       " 'management_wug': 0.0004283,\n",
       " 'scheme_management_Private operator': 0.00030282,\n",
       " 'scheme_management_Water Board': 0.0002573,\n",
       " 'management_private operator': 0.00024398,\n",
       " 'source_class_groundwater': 0.00021413,\n",
       " 'management_water board': 0.00019214,\n",
       " 'management_group_parastatal': 0.00017181,\n",
       " 'scheme_management_Parastatal': 0.0001422,\n",
       " 'extraction_type_group_afridev': 9.179e-05,\n",
       " 'water_quality_salty': 2.969e-05,\n",
       " 'basin_Ruvuma / Southern Coast': 0.0,\n",
       " 'scheme_management_Other': 0.0,\n",
       " 'scheme_management_SWC': 0.0,\n",
       " 'scheme_management_Trust': 0.0,\n",
       " 'extraction_type_group_other': 0.0,\n",
       " 'extraction_type_group_other motorpump': 0.0,\n",
       " 'extraction_type_group_rope pump': 0.0,\n",
       " 'extraction_type_group_submersible': 0.0,\n",
       " 'extraction_type_group_wind-powered': 0.0,\n",
       " 'extraction_type_class_rope pump': 0.0,\n",
       " 'extraction_type_class_wind-powered': 0.0,\n",
       " 'management_other': 0.0,\n",
       " 'management_other - school': 0.0,\n",
       " 'management_trust': 0.0,\n",
       " 'management_unknown': 0.0,\n",
       " 'management_water authority': 0.0,\n",
       " 'management_group_other': 0.0,\n",
       " 'management_group_unknown': 0.0,\n",
       " 'payment_type_other': 0.0,\n",
       " 'water_quality_coloured': 0.0,\n",
       " 'water_quality_fluoride': 0.0,\n",
       " 'water_quality_fluoride abandoned': 0.0,\n",
       " 'water_quality_salty abandoned': 0.0,\n",
       " 'source_type_other': 0.0,\n",
       " 'source_type_rainwater harvesting': 0.0,\n",
       " 'source_class_unknown': 0.0,\n",
       " 'waterpoint_type_cattle trough': 0.0,\n",
       " 'waterpoint_type_dam': 0.0}"
      ]
     },
     "execution_count": 21,
     "metadata": {},
     "output_type": "execute_result"
    }
   ],
   "source": [
    "{k: v for k, v in sorted(Feature_importance.items(),\n",
    "                         key=lambda item: item[1], reverse=True)}"
   ]
  },
  {
   "cell_type": "code",
   "execution_count": null,
   "id": "a25126da",
   "metadata": {},
   "outputs": [],
   "source": []
  }
 ],
 "metadata": {
  "kernelspec": {
   "display_name": "Python 3",
   "language": "python",
   "name": "python3"
  },
  "language_info": {
   "codemirror_mode": {
    "name": "ipython",
    "version": 3
   },
   "file_extension": ".py",
   "mimetype": "text/x-python",
   "name": "python",
   "nbconvert_exporter": "python",
   "pygments_lexer": "ipython3",
   "version": "3.8.8"
  }
 },
 "nbformat": 4,
 "nbformat_minor": 5
}
